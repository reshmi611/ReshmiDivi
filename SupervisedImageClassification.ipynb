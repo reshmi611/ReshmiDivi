{
  "nbformat": 4,
  "nbformat_minor": 0,
  "metadata": {
    "colab": {
      "provenance": [],
      "collapsed_sections": []
    },
    "kernelspec": {
      "name": "python3",
      "display_name": "Python 3"
    },
    "language_info": {
      "name": "python"
    }
  },
  "cells": [
    {
      "cell_type": "code",
      "execution_count": 15,
      "metadata": {
        "id": "AxQMA_qCjo8G",
        "outputId": "8eb42583-b7d2-4a82-ab35-ba36bcdfb3a8",
        "colab": {
          "base_uri": "https://localhost:8080/",
          "height": 0
        }
      },
      "outputs": [
        {
          "output_type": "stream",
          "name": "stdout",
          "text": [
            "Drive already mounted at /content/drive; to attempt to forcibly remount, call drive.mount(\"/content/drive\", force_remount=True).\n"
          ]
        }
      ],
      "source": [
        "from google.colab import drive\n",
        "drive.mount('/content/drive')"
      ]
    },
    {
      "cell_type": "code",
      "source": [
        "import matplotlib.pyplot as plt\n",
        "import seaborn as sns\n",
        "\n",
        "import keras\n",
        "from keras.models import Sequential\n",
        "from keras.layers import Dense, Conv2D , MaxPool2D , Flatten , Dropout \n",
        "from keras.preprocessing.image import ImageDataGenerator\n",
        "from tensorflow.keras.optimizers import Adam\n",
        "\n",
        "from sklearn.metrics import classification_report,confusion_matrix\n",
        "\n",
        "import tensorflow as tf\n",
        "\n",
        "import cv2\n",
        "import os\n",
        "\n",
        "import numpy as np\n",
        "\n"
      ],
      "metadata": {
        "id": "r0vfuWe1j81C"
      },
      "execution_count": 16,
      "outputs": []
    },
    {
      "cell_type": "code",
      "source": [
        "labels = ['rugby', 'soccer']\n",
        "img_size = 224\n",
        "def get_data(data_dir):\n",
        "    data = [] \n",
        "    for label in labels: \n",
        "        path = os.path.join(data_dir, label)\n",
        "        class_num = labels.index(label)\n",
        "        for img in os.listdir(path):\n",
        "            try:\n",
        "                img_arr = cv2.imread(os.path.join(path, img))[...,::-1] #convert BGR to RGB format\n",
        "                resized_arr = cv2.resize(img_arr, (img_size, img_size)) # Reshaping images to preferred size\n",
        "                data.append([resized_arr, class_num])\n",
        "            except Exception as e:\n",
        "                print(e)\n",
        "    return np.array(data)"
      ],
      "metadata": {
        "id": "F_oTYym_j-7_"
      },
      "execution_count": 17,
      "outputs": []
    },
    {
      "cell_type": "code",
      "source": [
        "#Now we can easily fetch our train and validation data.\n",
        "train = get_data(\"/content/drive/MyDrive/input/train\")\n",
        "val = get_data(\"/content/drive/MyDrive/input/test\")\n",
        " "
      ],
      "metadata": {
        "id": "MDpavmDykKhB",
        "colab": {
          "base_uri": "https://localhost:8080/",
          "height": 0
        },
        "outputId": "4465efc9-6e86-4ea4-afad-7f35f66553e1"
      },
      "execution_count": 18,
      "outputs": [
        {
          "output_type": "stream",
          "name": "stderr",
          "text": [
            "/usr/local/lib/python3.7/dist-packages/ipykernel_launcher.py:15: VisibleDeprecationWarning: Creating an ndarray from ragged nested sequences (which is a list-or-tuple of lists-or-tuples-or ndarrays with different lengths or shapes) is deprecated. If you meant to do this, you must specify 'dtype=object' when creating the ndarray.\n",
            "  from ipykernel import kernelapp as app\n"
          ]
        }
      ]
    },
    {
      "cell_type": "code",
      "source": [
        "x_train = []\n",
        "y_train = []\n",
        "x_val = []\n",
        "y_val = []\n",
        "\n",
        "for feature, label in train:\n",
        "  x_train.append(feature)\n",
        "  y_train.append(label)\n",
        "\n",
        "for feature, label in val:\n",
        "  x_val.append(feature)\n",
        "  y_val.append(label)\n",
        "\n",
        "# Normalize the data\n",
        "x_train = np.array(x_train) / 255\n",
        "x_val = np.array(x_val) / 255\n",
        "\n",
        "x_train.reshape(-1, img_size, img_size, 1)\n",
        "y_train = np.array(y_train)\n",
        "\n",
        "x_val.reshape(-1, img_size, img_size, 1)\n",
        "y_val = np.array(y_val)\n"
      ],
      "metadata": {
        "id": "54LAQk64kLQc"
      },
      "execution_count": 19,
      "outputs": []
    },
    {
      "cell_type": "code",
      "source": [
        "datagen = ImageDataGenerator(\n",
        "        featurewise_center=False,  # set input mean to 0 over the dataset\n",
        "        samplewise_center=False,  # set each sample mean to 0\n",
        "        featurewise_std_normalization=False,  # divide inputs by std of the dataset\n",
        "        samplewise_std_normalization=False,  # divide each input by its std\n",
        "        zca_whitening=False,  # apply ZCA whitening\n",
        "        rotation_range = 30,  # randomly rotate images in the range (degrees, 0 to 180)\n",
        "        zoom_range = 0.2, # Randomly zoom image \n",
        "        width_shift_range=0.1,  # randomly shift images horizontally (fraction of total width)\n",
        "        height_shift_range=0.1,  # randomly shift images vertically (fraction of total height)\n",
        "        horizontal_flip = True,  # randomly flip images\n",
        "        vertical_flip=False)  # randomly flip images\n",
        "\n",
        "\n",
        "datagen.fit(x_train)"
      ],
      "metadata": {
        "id": "7G6AYuLzkUPG"
      },
      "execution_count": 20,
      "outputs": []
    },
    {
      "cell_type": "code",
      "source": [
        "model = Sequential()\n",
        "model.add(Conv2D(32,3,padding=\"same\", activation=\"relu\", input_shape=(224,224,3)))\n",
        "model.add(MaxPool2D())\n",
        "\n",
        "model.add(Conv2D(32, 3, padding=\"same\", activation=\"relu\"))\n",
        "model.add(MaxPool2D())\n",
        "\n",
        "model.add(Conv2D(64, 3, padding=\"same\", activation=\"relu\"))\n",
        "model.add(MaxPool2D())\n",
        "model.add(Dropout(0.4))\n",
        "\n",
        "model.add(Flatten())\n",
        "model.add(Dense(128,activation=\"relu\"))\n",
        "model.add(Dense(2, activation=\"softmax\"))\n",
        "\n",
        "model.summary()"
      ],
      "metadata": {
        "id": "8Cyg1LxQkYqZ",
        "colab": {
          "base_uri": "https://localhost:8080/",
          "height": 0
        },
        "outputId": "2437409d-3b08-4862-8ea8-05806547af0a"
      },
      "execution_count": 21,
      "outputs": [
        {
          "output_type": "stream",
          "name": "stdout",
          "text": [
            "Model: \"sequential_1\"\n",
            "_________________________________________________________________\n",
            " Layer (type)                Output Shape              Param #   \n",
            "=================================================================\n",
            " conv2d_3 (Conv2D)           (None, 224, 224, 32)      896       \n",
            "                                                                 \n",
            " max_pooling2d_3 (MaxPooling  (None, 112, 112, 32)     0         \n",
            " 2D)                                                             \n",
            "                                                                 \n",
            " conv2d_4 (Conv2D)           (None, 112, 112, 32)      9248      \n",
            "                                                                 \n",
            " max_pooling2d_4 (MaxPooling  (None, 56, 56, 32)       0         \n",
            " 2D)                                                             \n",
            "                                                                 \n",
            " conv2d_5 (Conv2D)           (None, 56, 56, 64)        18496     \n",
            "                                                                 \n",
            " max_pooling2d_5 (MaxPooling  (None, 28, 28, 64)       0         \n",
            " 2D)                                                             \n",
            "                                                                 \n",
            " dropout_1 (Dropout)         (None, 28, 28, 64)        0         \n",
            "                                                                 \n",
            " flatten_1 (Flatten)         (None, 50176)             0         \n",
            "                                                                 \n",
            " dense_2 (Dense)             (None, 128)               6422656   \n",
            "                                                                 \n",
            " dense_3 (Dense)             (None, 2)                 258       \n",
            "                                                                 \n",
            "=================================================================\n",
            "Total params: 6,451,554\n",
            "Trainable params: 6,451,554\n",
            "Non-trainable params: 0\n",
            "_________________________________________________________________\n"
          ]
        }
      ]
    },
    {
      "cell_type": "code",
      "source": [
        "opt = Adam(learning_rate=0.000001)\n",
        "model.compile(optimizer = opt , loss = tf.keras.losses.SparseCategoricalCrossentropy(from_logits=True) , metrics = ['accuracy'])\n"
      ],
      "metadata": {
        "id": "8NIBzYwikakj"
      },
      "execution_count": 22,
      "outputs": []
    },
    {
      "cell_type": "code",
      "source": [
        "history = model.fit(x_train,y_train,epochs = 70 , validation_data = (x_val, y_val))\n"
      ],
      "metadata": {
        "id": "SRk8AXkQkeef",
        "colab": {
          "base_uri": "https://localhost:8080/",
          "height": 0
        },
        "outputId": "67f1dccb-cb23-4639-bf86-f8c3494533ef"
      },
      "execution_count": 23,
      "outputs": [
        {
          "output_type": "stream",
          "name": "stdout",
          "text": [
            "Epoch 1/70\n",
            "6/6 [==============================] - 24s 4s/step - loss: 0.5766 - accuracy: 0.9389 - val_loss: 0.7098 - val_accuracy: 0.5000\n",
            "Epoch 2/70\n",
            "6/6 [==============================] - 21s 4s/step - loss: 0.5321 - accuracy: 0.9444 - val_loss: 0.7216 - val_accuracy: 0.5000\n",
            "Epoch 3/70\n",
            "6/6 [==============================] - 21s 4s/step - loss: 0.4985 - accuracy: 0.9500 - val_loss: 0.7361 - val_accuracy: 0.5000\n",
            "Epoch 4/70\n",
            "6/6 [==============================] - 21s 4s/step - loss: 0.4678 - accuracy: 0.9500 - val_loss: 0.7539 - val_accuracy: 0.5000\n",
            "Epoch 5/70\n",
            "6/6 [==============================] - 23s 4s/step - loss: 0.4329 - accuracy: 0.9500 - val_loss: 0.7742 - val_accuracy: 0.5000\n",
            "Epoch 6/70\n",
            "6/6 [==============================] - 21s 4s/step - loss: 0.4050 - accuracy: 0.9500 - val_loss: 0.7973 - val_accuracy: 0.5000\n",
            "Epoch 7/70\n",
            "6/6 [==============================] - 21s 4s/step - loss: 0.3802 - accuracy: 0.9500 - val_loss: 0.8235 - val_accuracy: 0.5000\n",
            "Epoch 8/70\n",
            "6/6 [==============================] - 21s 4s/step - loss: 0.3577 - accuracy: 0.9500 - val_loss: 0.8519 - val_accuracy: 0.5000\n",
            "Epoch 9/70\n",
            "6/6 [==============================] - 21s 4s/step - loss: 0.3368 - accuracy: 0.9500 - val_loss: 0.8827 - val_accuracy: 0.5000\n",
            "Epoch 10/70\n",
            "6/6 [==============================] - 21s 4s/step - loss: 0.3218 - accuracy: 0.9500 - val_loss: 0.9142 - val_accuracy: 0.5000\n",
            "Epoch 11/70\n",
            "6/6 [==============================] - 21s 4s/step - loss: 0.3064 - accuracy: 0.9500 - val_loss: 0.9467 - val_accuracy: 0.5000\n",
            "Epoch 12/70\n",
            "6/6 [==============================] - 21s 4s/step - loss: 0.2907 - accuracy: 0.9500 - val_loss: 0.9803 - val_accuracy: 0.5000\n",
            "Epoch 13/70\n",
            "6/6 [==============================] - 21s 4s/step - loss: 0.2794 - accuracy: 0.9500 - val_loss: 1.0136 - val_accuracy: 0.5000\n",
            "Epoch 14/70\n",
            "6/6 [==============================] - 21s 4s/step - loss: 0.2651 - accuracy: 0.9500 - val_loss: 1.0462 - val_accuracy: 0.5000\n",
            "Epoch 15/70\n",
            "6/6 [==============================] - 21s 4s/step - loss: 0.2606 - accuracy: 0.9500 - val_loss: 1.0775 - val_accuracy: 0.5000\n",
            "Epoch 16/70\n",
            "6/6 [==============================] - 21s 4s/step - loss: 0.2536 - accuracy: 0.9500 - val_loss: 1.1057 - val_accuracy: 0.5000\n",
            "Epoch 17/70\n",
            "6/6 [==============================] - 21s 4s/step - loss: 0.2525 - accuracy: 0.9500 - val_loss: 1.1357 - val_accuracy: 0.5000\n",
            "Epoch 18/70\n",
            "6/6 [==============================] - 21s 4s/step - loss: 0.2459 - accuracy: 0.9500 - val_loss: 1.1640 - val_accuracy: 0.5000\n",
            "Epoch 19/70\n",
            "6/6 [==============================] - 21s 4s/step - loss: 0.2388 - accuracy: 0.9500 - val_loss: 1.1881 - val_accuracy: 0.5000\n",
            "Epoch 20/70\n",
            "6/6 [==============================] - 21s 4s/step - loss: 0.2356 - accuracy: 0.9500 - val_loss: 1.2146 - val_accuracy: 0.5000\n",
            "Epoch 21/70\n",
            "6/6 [==============================] - 21s 4s/step - loss: 0.2332 - accuracy: 0.9500 - val_loss: 1.2379 - val_accuracy: 0.5000\n",
            "Epoch 22/70\n",
            "6/6 [==============================] - 21s 4s/step - loss: 0.2287 - accuracy: 0.9500 - val_loss: 1.2584 - val_accuracy: 0.5000\n",
            "Epoch 23/70\n",
            "6/6 [==============================] - 21s 4s/step - loss: 0.2295 - accuracy: 0.9500 - val_loss: 1.2801 - val_accuracy: 0.5000\n",
            "Epoch 24/70\n",
            "6/6 [==============================] - 21s 4s/step - loss: 0.2255 - accuracy: 0.9500 - val_loss: 1.3002 - val_accuracy: 0.5000\n",
            "Epoch 25/70\n",
            "6/6 [==============================] - 21s 4s/step - loss: 0.2312 - accuracy: 0.9500 - val_loss: 1.3178 - val_accuracy: 0.5000\n",
            "Epoch 26/70\n",
            "6/6 [==============================] - 21s 4s/step - loss: 0.2284 - accuracy: 0.9500 - val_loss: 1.3369 - val_accuracy: 0.5000\n",
            "Epoch 27/70\n",
            "6/6 [==============================] - 21s 4s/step - loss: 0.2250 - accuracy: 0.9500 - val_loss: 1.3524 - val_accuracy: 0.5000\n",
            "Epoch 28/70\n",
            "6/6 [==============================] - 21s 4s/step - loss: 0.2265 - accuracy: 0.9500 - val_loss: 1.3656 - val_accuracy: 0.5000\n",
            "Epoch 29/70\n",
            "6/6 [==============================] - 21s 4s/step - loss: 0.2207 - accuracy: 0.9500 - val_loss: 1.3780 - val_accuracy: 0.5000\n",
            "Epoch 30/70\n",
            "6/6 [==============================] - 24s 4s/step - loss: 0.2211 - accuracy: 0.9500 - val_loss: 1.3855 - val_accuracy: 0.5000\n",
            "Epoch 31/70\n",
            "6/6 [==============================] - 21s 4s/step - loss: 0.2219 - accuracy: 0.9500 - val_loss: 1.3957 - val_accuracy: 0.5000\n",
            "Epoch 32/70\n",
            "6/6 [==============================] - 21s 4s/step - loss: 0.2180 - accuracy: 0.9500 - val_loss: 1.4035 - val_accuracy: 0.5000\n",
            "Epoch 33/70\n",
            "6/6 [==============================] - 21s 4s/step - loss: 0.2154 - accuracy: 0.9500 - val_loss: 1.4116 - val_accuracy: 0.5000\n",
            "Epoch 34/70\n",
            "6/6 [==============================] - 21s 4s/step - loss: 0.2190 - accuracy: 0.9500 - val_loss: 1.4198 - val_accuracy: 0.5000\n",
            "Epoch 35/70\n",
            "6/6 [==============================] - 21s 4s/step - loss: 0.2171 - accuracy: 0.9500 - val_loss: 1.4276 - val_accuracy: 0.5000\n",
            "Epoch 36/70\n",
            "6/6 [==============================] - 21s 4s/step - loss: 0.2218 - accuracy: 0.9500 - val_loss: 1.4327 - val_accuracy: 0.5000\n",
            "Epoch 37/70\n",
            "6/6 [==============================] - 21s 4s/step - loss: 0.2185 - accuracy: 0.9500 - val_loss: 1.4385 - val_accuracy: 0.5000\n",
            "Epoch 38/70\n",
            "6/6 [==============================] - 21s 4s/step - loss: 0.2117 - accuracy: 0.9500 - val_loss: 1.4413 - val_accuracy: 0.5000\n",
            "Epoch 39/70\n",
            "6/6 [==============================] - 21s 4s/step - loss: 0.2167 - accuracy: 0.9500 - val_loss: 1.4439 - val_accuracy: 0.5000\n",
            "Epoch 40/70\n",
            "6/6 [==============================] - 21s 4s/step - loss: 0.2168 - accuracy: 0.9500 - val_loss: 1.4476 - val_accuracy: 0.5000\n",
            "Epoch 41/70\n",
            "6/6 [==============================] - 21s 4s/step - loss: 0.2169 - accuracy: 0.9500 - val_loss: 1.4553 - val_accuracy: 0.5000\n",
            "Epoch 42/70\n",
            "6/6 [==============================] - 21s 4s/step - loss: 0.2158 - accuracy: 0.9500 - val_loss: 1.4596 - val_accuracy: 0.5000\n",
            "Epoch 43/70\n",
            "6/6 [==============================] - 21s 4s/step - loss: 0.2172 - accuracy: 0.9500 - val_loss: 1.4612 - val_accuracy: 0.5000\n",
            "Epoch 44/70\n",
            "6/6 [==============================] - 21s 4s/step - loss: 0.2166 - accuracy: 0.9500 - val_loss: 1.4637 - val_accuracy: 0.5000\n",
            "Epoch 45/70\n",
            "6/6 [==============================] - 21s 4s/step - loss: 0.2220 - accuracy: 0.9500 - val_loss: 1.4669 - val_accuracy: 0.5000\n",
            "Epoch 46/70\n",
            "6/6 [==============================] - 21s 4s/step - loss: 0.2173 - accuracy: 0.9500 - val_loss: 1.4675 - val_accuracy: 0.5000\n",
            "Epoch 47/70\n",
            "6/6 [==============================] - 21s 4s/step - loss: 0.2189 - accuracy: 0.9500 - val_loss: 1.4748 - val_accuracy: 0.5000\n",
            "Epoch 48/70\n",
            "6/6 [==============================] - 21s 4s/step - loss: 0.2210 - accuracy: 0.9500 - val_loss: 1.4750 - val_accuracy: 0.5000\n",
            "Epoch 49/70\n",
            "6/6 [==============================] - 21s 4s/step - loss: 0.2236 - accuracy: 0.9500 - val_loss: 1.4770 - val_accuracy: 0.5000\n",
            "Epoch 50/70\n",
            "6/6 [==============================] - 21s 4s/step - loss: 0.2129 - accuracy: 0.9500 - val_loss: 1.4834 - val_accuracy: 0.5000\n",
            "Epoch 51/70\n",
            "6/6 [==============================] - 21s 4s/step - loss: 0.2151 - accuracy: 0.9500 - val_loss: 1.4851 - val_accuracy: 0.5000\n",
            "Epoch 52/70\n",
            "6/6 [==============================] - 21s 4s/step - loss: 0.2151 - accuracy: 0.9500 - val_loss: 1.4863 - val_accuracy: 0.5000\n",
            "Epoch 53/70\n",
            "6/6 [==============================] - 21s 4s/step - loss: 0.2184 - accuracy: 0.9500 - val_loss: 1.4882 - val_accuracy: 0.5000\n",
            "Epoch 54/70\n",
            "6/6 [==============================] - 21s 4s/step - loss: 0.2140 - accuracy: 0.9500 - val_loss: 1.4882 - val_accuracy: 0.5000\n",
            "Epoch 55/70\n",
            "6/6 [==============================] - 21s 4s/step - loss: 0.2170 - accuracy: 0.9500 - val_loss: 1.4925 - val_accuracy: 0.5000\n",
            "Epoch 56/70\n",
            "6/6 [==============================] - 21s 4s/step - loss: 0.2131 - accuracy: 0.9500 - val_loss: 1.4945 - val_accuracy: 0.5000\n",
            "Epoch 57/70\n",
            "6/6 [==============================] - 21s 4s/step - loss: 0.2194 - accuracy: 0.9500 - val_loss: 1.4934 - val_accuracy: 0.5000\n",
            "Epoch 58/70\n",
            "6/6 [==============================] - 21s 4s/step - loss: 0.2199 - accuracy: 0.9500 - val_loss: 1.4931 - val_accuracy: 0.5000\n",
            "Epoch 59/70\n",
            "6/6 [==============================] - 21s 4s/step - loss: 0.2162 - accuracy: 0.9500 - val_loss: 1.4955 - val_accuracy: 0.5000\n",
            "Epoch 60/70\n",
            "6/6 [==============================] - 21s 4s/step - loss: 0.2168 - accuracy: 0.9500 - val_loss: 1.4948 - val_accuracy: 0.5000\n",
            "Epoch 61/70\n",
            "6/6 [==============================] - 21s 4s/step - loss: 0.2194 - accuracy: 0.9500 - val_loss: 1.4902 - val_accuracy: 0.5000\n",
            "Epoch 62/70\n",
            "6/6 [==============================] - 21s 4s/step - loss: 0.2139 - accuracy: 0.9500 - val_loss: 1.4919 - val_accuracy: 0.5000\n",
            "Epoch 63/70\n",
            "6/6 [==============================] - 21s 4s/step - loss: 0.2150 - accuracy: 0.9500 - val_loss: 1.4928 - val_accuracy: 0.5000\n",
            "Epoch 64/70\n",
            "6/6 [==============================] - 21s 4s/step - loss: 0.2158 - accuracy: 0.9500 - val_loss: 1.4870 - val_accuracy: 0.5000\n",
            "Epoch 65/70\n",
            "6/6 [==============================] - 21s 4s/step - loss: 0.2156 - accuracy: 0.9500 - val_loss: 1.4820 - val_accuracy: 0.5000\n",
            "Epoch 66/70\n",
            "6/6 [==============================] - 21s 4s/step - loss: 0.2124 - accuracy: 0.9500 - val_loss: 1.4874 - val_accuracy: 0.5000\n",
            "Epoch 67/70\n",
            "6/6 [==============================] - 21s 4s/step - loss: 0.2094 - accuracy: 0.9500 - val_loss: 1.4881 - val_accuracy: 0.5000\n",
            "Epoch 68/70\n",
            "6/6 [==============================] - 21s 4s/step - loss: 0.2088 - accuracy: 0.9500 - val_loss: 1.4895 - val_accuracy: 0.5000\n",
            "Epoch 69/70\n",
            "6/6 [==============================] - 21s 4s/step - loss: 0.2146 - accuracy: 0.9500 - val_loss: 1.4892 - val_accuracy: 0.5000\n",
            "Epoch 70/70\n",
            "6/6 [==============================] - 21s 4s/step - loss: 0.2151 - accuracy: 0.9500 - val_loss: 1.4909 - val_accuracy: 0.5000\n"
          ]
        }
      ]
    },
    {
      "cell_type": "code",
      "source": [
        "acc = history.history['accuracy']\n",
        "val_acc = history.history['val_accuracy']\n",
        "loss = history.history['loss']\n",
        "val_loss = history.history['val_loss']\n",
        "\n",
        "epochs_range = range(70)\n",
        "\n",
        "plt.figure(figsize=(15, 15))\n",
        "plt.subplot(2, 2, 1)\n",
        "plt.plot(epochs_range, acc, label='Training Accuracy')\n",
        "plt.plot(epochs_range, val_acc, label='Validation Accuracy')\n",
        "plt.legend(loc='lower right')\n",
        "plt.title('Training and Validation Accuracy')\n",
        "\n",
        "plt.subplot(2, 2, 2)\n",
        "plt.plot(epochs_range, loss, label='Training Loss')\n",
        "plt.plot(epochs_range, val_loss, label='Validation Loss')\n",
        "plt.legend(loc='upper right')\n",
        "plt.title('Training and Validation Loss')\n",
        "plt.show()"
      ],
      "metadata": {
        "id": "04-LTzNWkjHQ",
        "colab": {
          "base_uri": "https://localhost:8080/",
          "height": 435
        },
        "outputId": "19d5d86c-886a-486c-8683-9f443ccb110f"
      },
      "execution_count": 25,
      "outputs": [
        {
          "output_type": "display_data",
          "data": {
            "text/plain": [
              "<Figure size 1080x1080 with 2 Axes>"
            ],
            "image/png": "[encoded data removed]"
          },
          "metadata": {
            "needs_background": "light"
          }
        }
      ]
    },
    {
      "cell_type": "code",
      "source": [
        "predictions = np.argmax(model.predict(x_val), axis=-1)\n",
        "predictions = predictions.reshape(1,-1)[0]\n",
        "print(classification_report(y_val, predictions, target_names = ['Rugby (Class 0)','Soccer (Class 1)']))\n"
      ],
      "metadata": {
        "id": "iUU4A4vSkjsW",
        "colab": {
          "base_uri": "https://localhost:8080/",
          "height": 0
        },
        "outputId": "bbaf1fef-0669-4299-a746-2e7101225837"
      },
      "execution_count": 26,
      "outputs": [
        {
          "output_type": "stream",
          "name": "stdout",
          "text": [
            "                  precision    recall  f1-score   support\n",
            "\n",
            " Rugby (Class 0)       0.50      1.00      0.67       305\n",
            "Soccer (Class 1)       0.00      0.00      0.00       305\n",
            "\n",
            "        accuracy                           0.50       610\n",
            "       macro avg       0.25      0.50      0.33       610\n",
            "    weighted avg       0.25      0.50      0.33       610\n",
            "\n"
          ]
        },
        {
          "output_type": "stream",
          "name": "stderr",
          "text": [
            "/usr/local/lib/python3.7/dist-packages/sklearn/metrics/_classification.py:1318: UndefinedMetricWarning: Precision and F-score are ill-defined and being set to 0.0 in labels with no predicted samples. Use `zero_division` parameter to control this behavior.\n",
            "  _warn_prf(average, modifier, msg_start, len(result))\n",
            "/usr/local/lib/python3.7/dist-packages/sklearn/metrics/_classification.py:1318: UndefinedMetricWarning: Precision and F-score are ill-defined and being set to 0.0 in labels with no predicted samples. Use `zero_division` parameter to control this behavior.\n",
            "  _warn_prf(average, modifier, msg_start, len(result))\n",
            "/usr/local/lib/python3.7/dist-packages/sklearn/metrics/_classification.py:1318: UndefinedMetricWarning: Precision and F-score are ill-defined and being set to 0.0 in labels with no predicted samples. Use `zero_division` parameter to control this behavior.\n",
            "  _warn_prf(average, modifier, msg_start, len(result))\n"
          ]
        }
      ]
    },
    {
      "cell_type": "markdown",
      "source": [
        "Task 1: Run the above code with given dataset.\n",
        "\n",
        "Task 2: Run the code with different dataset\n",
        "\n",
        "\n",
        "\n",
        "\n"
      ],
      "metadata": {
        "id": "oVqtwreQYd7E"
      }
    }
  ]
}